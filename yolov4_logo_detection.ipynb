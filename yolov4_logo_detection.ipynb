{
  "nbformat": 4,
  "nbformat_minor": 0,
  "metadata": {
    "colab": {
      "name": "yolov4-logo-detection.ipynb adlı not defterinin kopyası",
      "provenance": [],
      "collapsed_sections": [],
      "machine_shape": "hm"
    },
    "kernelspec": {
      "display_name": "Python 3",
      "name": "python3"
    },
    "language_info": {
      "name": "python"
    },
    "accelerator": "GPU"
  },
  "cells": [
    {
      "cell_type": "code",
      "metadata": {
        "id": "j9NZERepFny5"
      },
      "source": [
        "!pip install opendatasets"
      ],
      "execution_count": null,
      "outputs": []
    },
    {
      "cell_type": "code",
      "metadata": {
        "id": "bqo99uv-ElmG"
      },
      "source": [
        "from google.colab import drive\n",
        "drive.mount('/content/gdrive')"
      ],
      "execution_count": null,
      "outputs": []
    },
    {
      "cell_type": "code",
      "metadata": {
        "id": "M4U-LVeQE5CH"
      },
      "source": [
        "%cd gdrive\n",
        "%cd MyDrive\n",
        "%cd transfer-learning-yolo-logos\n",
        "!ls"
      ],
      "execution_count": null,
      "outputs": []
    },
    {
      "cell_type": "code",
      "metadata": {
        "id": "kBjeYT72FXAt"
      },
      "source": [
        "!unzip -q \"/content/gdrive/MyDrive/transfer-learning-yolo-logos/darknet/build/darknet/x64/data/obj.zip\" -d \"/content/gdrive/MyDrive/transfer-learning-yolo-logos/darknet/build/darknet/x64/data\""
      ],
      "execution_count": null,
      "outputs": []
    },
    {
      "cell_type": "code",
      "metadata": {
        "id": "-xkpdRENFb2B"
      },
      "source": [
        "%cd transfer-learning-yolo-logos"
      ],
      "execution_count": null,
      "outputs": []
    },
    {
      "cell_type": "code",
      "metadata": {
        "id": "tl1wAfj9p_N1"
      },
      "source": [
        "!git clone https://github.com/AlexeyAB/darknet.git"
      ],
      "execution_count": null,
      "outputs": []
    },
    {
      "cell_type": "code",
      "metadata": {
        "id": "ioWSLqQNuY-0"
      },
      "source": [
        "import opendatasets as od\n",
        "\n",
        "dataset_url = 'https://www.kaggle.com/lyly99/logodet3k'\n",
        "od.download(dataset_url)"
      ],
      "execution_count": null,
      "outputs": []
    },
    {
      "cell_type": "code",
      "metadata": {
        "id": "WN7tO5SCquym"
      },
      "source": [
        "import os\n",
        "\n",
        "root = 'logodet3k/LogoDet-3K'"
      ],
      "execution_count": null,
      "outputs": []
    },
    {
      "cell_type": "code",
      "metadata": {
        "id": "wi1vAbkXvIG4"
      },
      "source": [
        "with open('darknet/build/darknet/x64/data/obj.names', mode='w+') as f:\n",
        "  f.write('Logo')"
      ],
      "execution_count": null,
      "outputs": []
    },
    {
      "cell_type": "code",
      "metadata": {
        "id": "fkC0skVZvgBu"
      },
      "source": [
        "for d in os.listdir(root):\n",
        "  for logo in os.listdir(os.path.join(root, d)):\n",
        "    for file in os.listdir(os.path.join(root, d, logo)):\n",
        "      os.rename(os.path.join(root, d, logo, file), os.path.join(root, d, logo) + '/' + logo + '_' + file)"
      ],
      "execution_count": null,
      "outputs": []
    },
    {
      "cell_type": "code",
      "metadata": {
        "id": "MpZnYAG1vs8M"
      },
      "source": [
        "import shutil\n",
        "from tqdm import tqdm\n",
        "\n",
        "print(os.path.exists('darknet/build/darknet/x64/data/obj'))\n",
        "if not os.path.exists('darknet/build/darknet/x64/data/obj'):\n",
        "  os.makedirs('darknet/build/darknet/x64/data/obj')\n",
        "\n",
        "for r, d, f in os.walk(root):\n",
        "  for file in tqdm(f):\n",
        "      if file.endswith('.jpg'):\n",
        "          shutil.copyfile(os.path.join(r, file), 'darknet/build/darknet/x64/data/obj/' + file)"
      ],
      "execution_count": null,
      "outputs": []
    },
    {
      "cell_type": "code",
      "metadata": {
        "id": "WzsSvODKv80A"
      },
      "source": [
        "import xml.etree.ElementTree as ET\n",
        "import os\n",
        "\n",
        "root = 'logodet3k/LogoDet-3K'\n",
        "done = 0\n",
        "\n",
        "for d in os.listdir(root):\n",
        "  for logo in os.listdir(os.path.join(root, d)):\n",
        "    for file in os.listdir(os.path.join(root, d, logo)):\n",
        "        if file.endswith('.xml'):\n",
        "          tree = ET.parse(os.path.join(root, d, logo, file))\n",
        "          tree_root = tree.getroot()\n",
        "          tags = [(i.tag, i.text) for i in tree_root.iter()]\n",
        "          box_info = []\n",
        "          for i, tag in enumerate(tags):\n",
        "            if tag[0] == 'xmin':\n",
        "              box_info.append(tags[i:i+4])\n",
        "\n",
        "            if tag[0] == 'width':\n",
        "              width = int(tag[1])\n",
        "\n",
        "            if tag[0] == 'height':\n",
        "              height = int(tag[1])\n",
        "          \n",
        "          open('darknet/build/darknet/x64/data/obj/' + file[:-4] + '.txt', 'w').close()\n",
        "\n",
        "          with open('darknet/build/darknet/x64/data/obj/' + file[:-4] + '.txt', 'w+') as txt:\n",
        "            for box in box_info:\n",
        "              xmin = int(box[0][1])\n",
        "              ymin = int(box[1][1])\n",
        "              xmax = int(box[2][1])\n",
        "              ymax = int(box[3][1])\n",
        "\n",
        "              box_width_relative = (xmax - xmin) / width\n",
        "              box_height_relative = (ymax - ymin) / height\n",
        "              box_center_x_relative = ((xmax + xmin) / 2) / width\n",
        "              box_center_y_relative = ((ymax + ymin) / 2) / height\n",
        "\n",
        "              txt.write(' '.join(['0', str(box_center_x_relative), str(box_center_y_relative), str(box_width_relative), str(box_height_relative)]))\n",
        "              txt.write('\\n')\n",
        "          \n",
        "          done += 1\n",
        "          print('done {} logos'.format(done))\n",
        "                            "
      ],
      "execution_count": null,
      "outputs": []
    },
    {
      "cell_type": "code",
      "metadata": {
        "id": "8ybyhMN3xftO"
      },
      "source": [
        "from sklearn.model_selection import train_test_split\n",
        "import random\n",
        "import os\n",
        "root = 'logodet3k/LogoDet-3K'\n",
        "\n",
        "train = open('darknet/build/darknet/x64/data/train.txt', 'w+')\n",
        "test = open('darknet/build/darknet/x64/data/test.txt', 'w+')\n",
        "val = open('darknet/build/darknet/x64/data/val.txt', 'w+')\n",
        "total_set = []\n",
        "'''\n",
        "for r, d, f in os.walk(root):\n",
        "    for file in f:\n",
        "        if file.endswith('.jpg'):\n",
        "            train.write('build/darknet/x64/data/obj/' + file + '\\n')\n",
        "'''\n",
        "\n",
        "for r, d, f in os.walk(root):\n",
        "  for file in f:\n",
        "      if file.endswith('.jpg'):\n",
        "        total_set.append(file)\n",
        "\n",
        "for file in total_set:\n",
        "  train.write('build/darknet/x64/data/obj/' + file + '\\n')\n",
        "  "
      ],
      "execution_count": null,
      "outputs": []
    },
    {
      "cell_type": "code",
      "metadata": {
        "id": "i4Zm-oeMyZsL"
      },
      "source": [
        "%cd darknet"
      ],
      "execution_count": null,
      "outputs": []
    },
    {
      "cell_type": "code",
      "metadata": {
        "id": "D0_4kNVWykjz"
      },
      "source": [
        "!ls"
      ],
      "execution_count": null,
      "outputs": []
    },
    {
      "cell_type": "code",
      "metadata": {
        "id": "Futw7Bh0ylah"
      },
      "source": [
        "!sed -i 's/OPENCV=0/OPENCV=1/' Makefile\n",
        "!sed -i 's/GPU=0/GPU=1/' Makefile\n",
        "!sed -i 's/CUDNN=0/CUDNN=1/' Makefile\n",
        "!sed -i 's/CUDNN_HALF=0/CUDNN_HALF=1/' Makefile\n",
        "!make"
      ],
      "execution_count": null,
      "outputs": []
    },
    {
      "cell_type": "code",
      "metadata": {
        "id": "xQ7W22SJ6DLf"
      },
      "source": [
        "# define helper functions\n",
        "def imShow(path):\n",
        "  import cv2\n",
        "  import matplotlib.pyplot as plt\n",
        "  %matplotlib inline\n",
        "\n",
        "  image = cv2.imread(path)\n",
        "  height, width = image.shape[:2]\n",
        "  resized_image = cv2.resize(image,(3*width, 3*height), interpolation = cv2.INTER_CUBIC)\n",
        "\n",
        "  fig = plt.gcf()\n",
        "  fig.set_size_inches(18, 10)\n",
        "  plt.axis(\"off\")\n",
        "  plt.imshow(cv2.cvtColor(resized_image, cv2.COLOR_BGR2RGB))\n",
        "  plt.show()\n",
        "\n",
        "# use this to upload files\n",
        "def upload():\n",
        "  from google.colab import files\n",
        "  uploaded = files.upload() \n",
        "  for name, data in uploaded.items():\n",
        "    with open(name, 'wb') as f:\n",
        "      f.write(data)\n",
        "      print ('saved file', name)\n",
        "\n",
        "# use this to download a file  \n",
        "def download(path):\n",
        "  from google.colab import files\n",
        "  files.download(path)"
      ],
      "execution_count": null,
      "outputs": []
    },
    {
      "cell_type": "code",
      "metadata": {
        "id": "vrTM2VQaynpa"
      },
      "source": [
        "!./darknet detector train build/darknet/x64/data/obj.data cfg/yolo-obj.cfg build/darknet/x64/yolov4.conv.137 -dont_show"
      ],
      "execution_count": null,
      "outputs": []
    },
    {
      "cell_type": "code",
      "metadata": {
        "id": "V8bFxDcO5N9D"
      },
      "source": [
        "image_name = \"mickeys.jpg\"\n",
        "!./darknet detector test build/darknet/x64/data/obj.data cfg/yolo-obj.cfg backup/yolo-obj_last.weights image_name -dont_show"
      ],
      "execution_count": null,
      "outputs": []
    },
    {
      "cell_type": "code",
      "metadata": {
        "id": "bPRUuGtL7Iu5"
      },
      "source": [
        "imShow('predictions.jpg')"
      ],
      "execution_count": null,
      "outputs": []
    }
  ]
}